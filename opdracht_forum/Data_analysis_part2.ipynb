{
 "cells": [
  {
   "cell_type": "code",
   "execution_count": 8,
   "outputs": [],
   "source": [
    "from pyspark.sql import SparkSession\n",
    "spark = SparkSession.builder.appName(\"Basics\").getOrCreate()\n",
    "\n",
    "import requests\n",
    "import json\n",
    "\n"
   ],
   "metadata": {
    "collapsed": false,
    "pycharm": {
     "name": "#%%\n",
     "is_executing": false
    }
   }
  },
  {
   "cell_type": "code",
   "execution_count": 9,
   "outputs": [
    {
     "data": {
      "text/plain": "b'java version \"1.8.0_241\"\\nJava(TM) SE Runtime Environment (build 1.8.0_241-b07)\\nJava HotSpot(TM) 64-Bit Server VM (build 25.241-b07, mixed mode)\\n'"
     },
     "metadata": {},
     "output_type": "execute_result",
     "execution_count": 9
    }
   ],
   "source": [
    "#TODO: make a method out of this.\n",
    "\n",
    "import os\n",
    "os.environ['JAVA_HOME'] = '/Library/Java/JavaVirtualMachines/jdk1.8.0_241.jdk/Contents/Home'\n",
    "\n",
    "import subprocess\n",
    "subprocess.check_output(['java', '-version'], stderr=subprocess.STDOUT)\n"
   ],
   "metadata": {
    "collapsed": false,
    "pycharm": {
     "name": "#%%\n",
     "is_executing": false
    }
   }
  },
  {
   "cell_type": "code",
   "execution_count": 10,
   "outputs": [],
   "source": [
    "df = spark.read.parquet(\"../data/Data_Analysis_part1.parquet\")\n"
   ],
   "metadata": {
    "collapsed": false,
    "pycharm": {
     "name": "#%%\n",
     "is_executing": false
    }
   }
  },
  {
   "cell_type": "markdown",
   "source": [
    "Part 2, in which we do do some more advanced EDA, in which we choose a cutoff value \n",
    "that will allow us to define \"an inactive user\" (\n",
    "\n"
   ],
   "metadata": {
    "collapsed": false,
    "pycharm": {
     "name": "#%% md\n"
    }
   }
  },
  {
   "cell_type": "code",
   "execution_count": 11,
   "outputs": [
    {
     "name": "stdout",
     "text": [
      "+---------+------+--------------------+--------------+-----------------+----------+--------------------+-----------+--------------------------+-------------------------------+------------------------------+------------------------------+-------------------------+---+\n",
      "|person_id|gender| creationDate_person|    locationIP|      browserUsed|comment_id|creationDate_comment|      email|creationDate_comment_month|creationDate_comment_dayofmonth|creationDate_comment_dayofweek|creationDate_comment_dayofyear|creationDate_comment_year|age|\n",
      "+---------+------+--------------------+--------------+-----------------+----------+--------------------+-----------+--------------------------+-------------------------------+------------------------------+------------------------------+-------------------------+---+\n",
      "|     8217|  male|2019-01-25 18:54:...|109.239.36.182|          Firefox|      2573|2019-03-13 06:21:...|hotmail.com|                         3|                             13|                             4|                            72|                     2019| 34|\n",
      "|    17973|female|2019-01-24 02:05:...|     1.4.3.239|           Chrome|     11826|2019-09-03 11:13:...|    gmx.com|                         9|                              3|                             3|                           246|                     2019| 34|\n",
      "|     3817|female|2019-08-17 10:27:...| 1.204.201.149|Internet Explorer|     37623|2019-11-13 20:08:...|    gmx.com|                        11|                             13|                             4|                           317|                     2019| 36|\n",
      "|    18027|  male|2019-01-04 18:56:...|      1.3.8.65|          Firefox|     48995|2019-04-29 03:57:...|  gmail.com|                         4|                             29|                             2|                           119|                     2019| 38|\n",
      "|    29034|female|2019-02-20 20:14:...| 87.196.44.203|          Firefox|     53847|2019-07-03 18:17:...|hotmail.com|                         7|                              3|                             4|                           184|                     2019| 31|\n",
      "|     1052|  male|2019-03-20 11:46:...|  196.1.94.236|Internet Explorer|     55615|2019-07-31 23:39:...|  yahoo.com|                         7|                             31|                             4|                           212|                     2019| 40|\n",
      "|    16767|  male|2019-07-26 12:02:...|  46.17.130.48|          Firefox|     56298|2019-11-07 13:28:...|  yahoo.com|                        11|                              7|                             5|                           311|                     2019| 40|\n",
      "|    25514|female|2019-03-22 05:52:...| 24.30.160.138|          Firefox|     81540|2019-04-20 19:50:...|    gmx.com|                         4|                             20|                             7|                           110|                     2019| 39|\n",
      "|    11015|  male|2019-04-05 11:12:...|  41.207.60.46|           Safari|     95752|2019-11-16 20:53:...|  yahoo.com|                        11|                             16|                             7|                           320|                     2019| 32|\n",
      "|    19127|female|2019-05-11 01:31:...|118.103.234.41|           Chrome|    106753|2019-08-18 12:03:...|  gmail.com|                         8|                             18|                             1|                           230|                     2019| 36|\n",
      "|    12959|female|2019-03-03 20:18:...|   121.96.9.23|           Chrome|    113382|2019-10-27 14:10:...|  yahoo.com|                        10|                             27|                             1|                           300|                     2019| 33|\n",
      "|     6280|female|2019-05-11 21:01:...|  81.30.92.249|           Chrome|    149562|2019-07-23 20:21:...|   zoho.com|                         7|                             23|                             3|                           204|                     2019| 35|\n",
      "|    19807|female|2019-02-19 16:49:...|  27.54.129.75|          Firefox|    154331|2019-05-22 09:17:...|  gmail.com|                         5|                             22|                             4|                           142|                     2019| 33|\n",
      "|    26351|  male|2019-03-30 20:40:...|   14.0.10.113|           Chrome|    156508|2019-05-20 07:49:...|  yahoo.com|                         5|                             20|                             2|                           140|                     2019| 32|\n",
      "|     1103|female|2019-01-04 09:14:...|   81.6.70.192|Internet Explorer|    160086|2019-05-23 19:59:...|  yahoo.com|                         5|                             23|                             5|                           143|                     2019| 40|\n",
      "|    15233|  male|2019-01-03 10:35:...|   1.80.68.119|           Chrome|    173076|2019-04-23 05:35:...|    gmx.com|                         4|                             23|                             3|                           113|                     2019| 38|\n",
      "|     6238|female|2019-05-10 19:26:...| 110.92.30.137|Internet Explorer|    197579|2019-09-17 22:43:...|  yahoo.com|                         9|                             17|                             3|                           260|                     2019| 37|\n",
      "|     2783|female|2019-01-06 00:24:...| 62.93.169.198|          Firefox|    198159|2019-06-03 21:57:...|  gmail.com|                         6|                              3|                             2|                           154|                     2019| 40|\n",
      "|     4993|female|2019-04-07 01:58:...|  24.72.156.73|Internet Explorer|    222367|2019-11-05 02:42:...|  gmail.com|                        11|                              5|                             3|                           309|                     2019| 33|\n",
      "|    14939|  male|2019-01-18 12:53:...|196.216.249.15|           Chrome|    229469|2019-04-21 18:36:...|   aqaba.cc|                         4|                             21|                             1|                           111|                     2019| 34|\n",
      "+---------+------+--------------------+--------------+-----------------+----------+--------------------+-----------+--------------------------+-------------------------------+------------------------------+------------------------------+-------------------------+---+\n",
      "only showing top 20 rows\n",
      "\n"
     ],
     "output_type": "stream"
    }
   ],
   "source": [
    "df.show()"
   ],
   "metadata": {
    "collapsed": false,
    "pycharm": {
     "name": "#%%\n",
     "is_executing": false
    }
   }
  },
  {
   "cell_type": "markdown",
   "source": [
    "#TODO: This can again give us a wealth of new columns (e.g. Country, continent, city,..)\n",
    "\n",
    "access_key = input(\"Can I have your acceskey please?\").strip()\n",
    "locationIP = input(\"Can I have your locationIP please?\").strip()\n",
    "response = requests.get(\"http://api.ipstack.com/{0}?access_key={1}\".format(locationIP, access_key))\n",
    "\n",
    "def jprint(obj):\n",
    "    # create a formatted string of the Python JSON object\n",
    "    text = json.dumps(obj, sort_keys=True, indent=4)\n",
    "    print(text)\n",
    "\n",
    "jprint(response.json())"
   ],
   "metadata": {
    "collapsed": false,
    "pycharm": {
     "name": "#%% md\n",
     "is_executing": false
    }
   }
  },
  {
   "cell_type": "code",
   "execution_count": 11,
   "outputs": [],
   "source": [
    "\n"
   ],
   "metadata": {
    "collapsed": false,
    "pycharm": {
     "name": "#%%\n",
     "is_executing": false
    }
   }
  },
  {
   "cell_type": "code",
   "execution_count": 11,
   "outputs": [],
   "source": [],
   "metadata": {
    "collapsed": false,
    "pycharm": {
     "name": "#%%\n",
     "is_executing": false
    }
   }
  },
  {
   "cell_type": "code",
   "execution_count": 11,
   "outputs": [],
   "source": [
    "\n"
   ],
   "metadata": {
    "collapsed": false,
    "pycharm": {
     "name": "#%%\n",
     "is_executing": false
    }
   }
  }
 ],
 "metadata": {
  "kernelspec": {
   "name": "pycharm-66ecb5d2",
   "language": "python",
   "display_name": "PyCharm (Python)"
  },
  "language_info": {
   "codemirror_mode": {
    "name": "ipython",
    "version": 2
   },
   "file_extension": ".py",
   "mimetype": "text/x-python",
   "name": "python",
   "nbconvert_exporter": "python",
   "pygments_lexer": "ipython2",
   "version": "2.7.6"
  },
  "pycharm": {
   "stem_cell": {
    "cell_type": "raw",
    "source": [],
    "metadata": {
     "collapsed": false
    }
   }
  }
 },
 "nbformat": 4,
 "nbformat_minor": 0
}