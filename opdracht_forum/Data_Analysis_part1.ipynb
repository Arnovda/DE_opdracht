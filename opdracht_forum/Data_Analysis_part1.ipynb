{
 "cells": [
  {
   "cell_type": "code",
   "execution_count": 2,
   "outputs": [],
   "source": [
    "from pyspark.sql import SparkSession\n"
   ],
   "metadata": {
    "collapsed": false,
    "pycharm": {
     "name": "#%%\n",
     "is_executing": false
    }
   }
  },
  {
   "cell_type": "code",
   "metadata": {
    "collapsed": true,
    "pycharm": {
     "is_executing": false,
     "name": "#%% \n"
    }
   },
   "source": [
    "#TODO: make a method out of this.\n",
    "\n",
    "import os\n",
    "os.environ['JAVA_HOME'] = '/Library/Java/JavaVirtualMachines/jdk1.8.0_241.jdk/Contents/Home'\n",
    "\n",
    "import subprocess\n",
    "subprocess.check_output(['java', '-version'], stderr=subprocess.STDOUT)"
   ],
   "execution_count": 3,
   "outputs": [
    {
     "data": {
      "text/plain": "b'java version \"1.8.0_241\"\\nJava(TM) SE Runtime Environment (build 1.8.0_241-b07)\\nJava HotSpot(TM) 64-Bit Server VM (build 25.241-b07, mixed mode)\\n'"
     },
     "metadata": {},
     "output_type": "execute_result",
     "execution_count": 3
    }
   ]
  },
  {
   "cell_type": "code",
   "execution_count": 4,
   "outputs": [],
   "source": [
    "spark = SparkSession.builder.appName(\"Basics\").getOrCreate()\n",
    "df = spark.read.parquet(\"data/final_join.parquet\")\n"
   ],
   "metadata": {
    "collapsed": false,
    "pycharm": {
     "name": "#%%\n",
     "is_executing": false
    }
   }
  },
  {
   "cell_type": "code",
   "execution_count": 5,
   "outputs": [
    {
     "name": "stdout",
     "text": [
      "+--------------------+--------------------------+---------+---------+----------+------+----------+--------------------+---------------+-----------------+----------+--------------------+-----------------------------+\n",
      "|               email|creationDate_comment_month|person_id|firstName|  lastName|gender|  birthday| creationDate_person|     locationIP|      browserUsed|comment_id|creationDate_comment|Number_of_comments_that_month|\n",
      "+--------------------+--------------------------+---------+---------+----------+------+----------+--------------------+---------------+-----------------+----------+--------------------+-----------------------------+\n",
      "|David219902326268...|                         9|     7134|    David|    Alonso|female|1983-10-29|2019-03-20 04:12:...| 31.222.107.200|           Chrome|   2123877|2019-09-24 07:27:...|                            3|\n",
      "|David219902326407...|                         5|     8523|    David|   Vasquez|female|1988-08-18|2019-03-13 23:09:...|  200.10.250.73|          Firefox|   1210026|2019-05-18 16:21:...|                           30|\n",
      "|David219902326407...|                         5|     8523|    David|   Vasquez|female|1988-08-18|2019-03-13 23:09:...|  200.10.250.73|          Firefox|   1383913|2019-05-29 21:11:...|                           30|\n",
      "|David219902326407...|                         7|     8523|    David|   Vasquez|female|1988-08-18|2019-03-13 23:09:...|  200.10.250.73|          Firefox|   1372469|2019-07-19 02:02:...|                           18|\n",
      "|David219902326407...|                         9|     8523|    David|   Vasquez|female|1988-08-18|2019-03-13 23:09:...|  200.10.250.73|          Firefox|   2837601|2019-09-21 15:24:...|                           39|\n",
      "|David219902326424...|                         5|     8692|    David|     Brown|female|1981-10-31|2019-04-23 05:27:...|  12.147.111.48|           Chrome|   1833985|2019-05-20 01:49:...|                           25|\n",
      "|David219902326572...|                        10|    10176|    David|Boginskaya|female|1989-08-31|2019-05-11 03:36:...|178.168.182.123|           Chrome|   2856644|2019-10-22 03:35:...|                            5|\n",
      "|David219902326645...|                         4|    10905|    David|   Johnson|female|1985-06-07|2019-03-19 01:23:...|  41.203.43.203|          Firefox|   2529266|2019-04-11 19:47:...|                           21|\n",
      "|David219902326645...|                         6|    10905|    David|   Johnson|female|1985-06-07|2019-03-19 01:23:...|  41.203.43.203|          Firefox|    260120|2019-06-20 16:19:...|                            6|\n",
      "|David219902326745...|                         7|    11900|    David|     Moore|female|1987-02-11|2019-03-18 05:18:...|  24.40.104.206|          Firefox|   2975267|2019-07-17 03:54:...|                           11|\n",
      "|David219902326811...|                         5|    12561|    David|   Johnson|female|1983-05-04|2019-03-29 09:15:...|    24.26.1.251|          Firefox|   2011861|2019-05-19 23:12:...|                           83|\n",
      "|David219902326811...|                         6|    12561|    David|   Johnson|female|1983-05-04|2019-03-29 09:15:...|    24.26.1.251|          Firefox|    591728|2019-06-08 04:13:...|                           36|\n",
      "|David219902326811...|                         9|    12561|    David|   Johnson|female|1983-05-04|2019-03-29 09:15:...|    24.26.1.251|          Firefox|   2087015|2019-09-11 16:58:...|                           54|\n",
      "|David219902326811...|                        10|    12561|    David|   Johnson|female|1983-05-04|2019-03-29 09:15:...|    24.26.1.251|          Firefox|    647074|2019-10-06 02:52:...|                           39|\n",
      "|David219902326811...|                         5|    12561|    David|   Johnson|female|1983-05-04|2019-03-29 09:15:...|    24.26.1.251|          Firefox|   1236533|2019-05-13 00:50:...|                           83|\n",
      "|David219902326811...|                         5|    12561|    David|   Johnson|female|1983-05-04|2019-03-29 09:15:...|    24.26.1.251|          Firefox|   3110441|2019-05-19 17:35:...|                           83|\n",
      "|David219902326811...|                         7|    12561|    David|   Johnson|female|1983-05-04|2019-03-29 09:15:...|    24.26.1.251|          Firefox|   1382903|2019-07-11 16:04:...|                           25|\n",
      "|David219902326879...|                        10|    13239|    David|     Brown|female|1986-04-12|2019-03-26 13:22:...|  24.46.173.125|Internet Explorer|   5277032|2019-10-01 20:50:...|                           22|\n",
      "|David219902326967...|                        11|    14126|    David|     Johns|female|1983-05-05|2019-04-16 08:29:...|  41.74.149.213|           Chrome|   2312393|2019-11-07 13:11:...|                           34|\n",
      "|David219902326967...|                         5|    14126|    David|     Johns|female|1983-05-05|2019-04-16 08:29:...|  41.74.149.213|           Chrome|   2345042|2019-05-31 07:05:...|                            7|\n",
      "+--------------------+--------------------------+---------+---------+----------+------+----------+--------------------+---------------+-----------------+----------+--------------------+-----------------------------+\n",
      "only showing top 20 rows\n",
      "\n"
     ],
     "output_type": "stream"
    }
   ],
   "source": [
    "df.show()"
   ],
   "metadata": {
    "collapsed": false,
    "pycharm": {
     "name": "#%%\n",
     "is_executing": false
    }
   }
  },
  {
   "cell_type": "markdown",
   "source": [
    "First we'll drop some columns and impute some others and after that we'll do some basic data analysis, \n",
    "largely based on this post: https://medium.com/@aieeshashafique/exploratory-data-analysis-using-pyspark-dataframe-in-python-bd55c02a2852\n",
    "(part1, this file)\n",
    "\n",
    "Then We'll do some more advanced EDA, \n",
    "after which we'll choose a cutoff value which will allow us to define \"an inactive user\" (part 2)"
   ],
   "metadata": {
    "collapsed": false,
    "pycharm": {
     "name": "#%% md\n",
     "is_executing": false
    }
   }
  },
  {
   "cell_type": "code",
   "execution_count": 6,
   "outputs": [],
   "source": [
    "#dropping first- and lastname columns\n",
    "df = df.select([c for c in df.columns if c not in {'lastName','firstName'}])\n",
    "\n",
    "# Adding a lot of datetime columns\n",
    "from pyspark.sql.functions import dayofmonth,dayofweek,dayofyear,year\n",
    "columns = [dayofmonth,dayofweek,dayofyear,year]\n",
    "for x in columns:\n",
    "    df = df.withColumn(f\"creationDate_comment_{x.__name__}\", x(df['creationDate_comment']))\n",
    "\n",
    "# extracting domain name from emails\n",
    "from pyspark.sql.functions import split\n",
    "df = df.withColumn('email', split(df['email'], '@')[1])\n",
    "\n",
    "#Hardcoding the year in is not ideal, but for our purposes allowable \n",
    "df = df.withColumn('age', 2020 - year(df['birthday'])).drop('birthday')\n"
   ],
   "metadata": {
    "collapsed": false,
    "pycharm": {
     "name": "#%%\n",
     "is_executing": false
    }
   }
  },
  {
   "cell_type": "code",
   "execution_count": 7,
   "outputs": [
    {
     "name": "stdout",
     "text": [
      "+-----------+--------------------------+---------+------+--------------------+---------------+-----------------+----------+--------------------+-----------------------------+-------------------------------+------------------------------+------------------------------+-------------------------+---+\n",
      "|      email|creationDate_comment_month|person_id|gender| creationDate_person|     locationIP|      browserUsed|comment_id|creationDate_comment|Number_of_comments_that_month|creationDate_comment_dayofmonth|creationDate_comment_dayofweek|creationDate_comment_dayofyear|creationDate_comment_year|age|\n",
      "+-----------+--------------------------+---------+------+--------------------+---------------+-----------------+----------+--------------------+-----------------------------+-------------------------------+------------------------------+------------------------------+-------------------------+---+\n",
      "|  gmail.com|                         9|     7134|female|2019-03-20 04:12:...| 31.222.107.200|           Chrome|   2123877|2019-09-24 07:27:...|                            3|                             24|                             3|                           267|                     2019| 37|\n",
      "|  gmail.com|                         5|     8523|female|2019-03-13 23:09:...|  200.10.250.73|          Firefox|   1210026|2019-05-18 16:21:...|                           30|                             18|                             7|                           138|                     2019| 32|\n",
      "|hotmail.com|                         5|     8523|female|2019-03-13 23:09:...|  200.10.250.73|          Firefox|   1383913|2019-05-29 21:11:...|                           30|                             29|                             4|                           149|                     2019| 32|\n",
      "|hotmail.com|                         7|     8523|female|2019-03-13 23:09:...|  200.10.250.73|          Firefox|   1372469|2019-07-19 02:02:...|                           18|                             19|                             6|                           200|                     2019| 32|\n",
      "|hotmail.com|                         9|     8523|female|2019-03-13 23:09:...|  200.10.250.73|          Firefox|   2837601|2019-09-21 15:24:...|                           39|                             21|                             7|                           264|                     2019| 32|\n",
      "|  gmail.com|                         5|     8692|female|2019-04-23 05:27:...|  12.147.111.48|           Chrome|   1833985|2019-05-20 01:49:...|                           25|                             20|                             2|                           140|                     2019| 39|\n",
      "|   zoho.com|                        10|    10176|female|2019-05-11 03:36:...|178.168.182.123|           Chrome|   2856644|2019-10-22 03:35:...|                            5|                             22|                             3|                           295|                     2019| 31|\n",
      "|  gmail.com|                         4|    10905|female|2019-03-19 01:23:...|  41.203.43.203|          Firefox|   2529266|2019-04-11 19:47:...|                           21|                             11|                             5|                           101|                     2019| 35|\n",
      "|  gmail.com|                         6|    10905|female|2019-03-19 01:23:...|  41.203.43.203|          Firefox|    260120|2019-06-20 16:19:...|                            6|                             20|                             5|                           171|                     2019| 35|\n",
      "|    gmx.com|                         7|    11900|female|2019-03-18 05:18:...|  24.40.104.206|          Firefox|   2975267|2019-07-17 03:54:...|                           11|                             17|                             4|                           198|                     2019| 33|\n",
      "|  gmail.com|                         5|    12561|female|2019-03-29 09:15:...|    24.26.1.251|          Firefox|   2011861|2019-05-19 23:12:...|                           83|                             19|                             1|                           139|                     2019| 37|\n",
      "|  gmail.com|                         6|    12561|female|2019-03-29 09:15:...|    24.26.1.251|          Firefox|    591728|2019-06-08 04:13:...|                           36|                              8|                             7|                           159|                     2019| 37|\n",
      "|  gmail.com|                         9|    12561|female|2019-03-29 09:15:...|    24.26.1.251|          Firefox|   2087015|2019-09-11 16:58:...|                           54|                             11|                             4|                           254|                     2019| 37|\n",
      "|  gmail.com|                        10|    12561|female|2019-03-29 09:15:...|    24.26.1.251|          Firefox|    647074|2019-10-06 02:52:...|                           39|                              6|                             1|                           279|                     2019| 37|\n",
      "|   zoho.com|                         5|    12561|female|2019-03-29 09:15:...|    24.26.1.251|          Firefox|   1236533|2019-05-13 00:50:...|                           83|                             13|                             2|                           133|                     2019| 37|\n",
      "|   zoho.com|                         5|    12561|female|2019-03-29 09:15:...|    24.26.1.251|          Firefox|   3110441|2019-05-19 17:35:...|                           83|                             19|                             1|                           139|                     2019| 37|\n",
      "|   zoho.com|                         7|    12561|female|2019-03-29 09:15:...|    24.26.1.251|          Firefox|   1382903|2019-07-11 16:04:...|                           25|                             11|                             5|                           192|                     2019| 37|\n",
      "|  gmail.com|                        10|    13239|female|2019-03-26 13:22:...|  24.46.173.125|Internet Explorer|   5277032|2019-10-01 20:50:...|                           22|                              1|                             3|                           274|                     2019| 34|\n",
      "|  gmail.com|                        11|    14126|female|2019-04-16 08:29:...|  41.74.149.213|           Chrome|   2312393|2019-11-07 13:11:...|                           34|                              7|                             5|                           311|                     2019| 37|\n",
      "|  yahoo.com|                         5|    14126|female|2019-04-16 08:29:...|  41.74.149.213|           Chrome|   2345042|2019-05-31 07:05:...|                            7|                             31|                             6|                           151|                     2019| 37|\n",
      "+-----------+--------------------------+---------+------+--------------------+---------------+-----------------+----------+--------------------+-----------------------------+-------------------------------+------------------------------+------------------------------+-------------------------+---+\n",
      "only showing top 20 rows\n",
      "\n"
     ],
     "output_type": "stream"
    }
   ],
   "source": [
    "df.show()"
   ],
   "metadata": {
    "collapsed": false,
    "pycharm": {
     "name": "#%%\n",
     "is_executing": false
    }
   }
  },
  {
   "cell_type": "code",
   "execution_count": 8,
   "outputs": [
    {
     "name": "stdout",
     "text": [
      "root\n",
      " |-- email: string (nullable = true)\n",
      " |-- creationDate_comment_month: integer (nullable = true)\n",
      " |-- person_id: integer (nullable = true)\n",
      " |-- gender: string (nullable = true)\n",
      " |-- creationDate_person: timestamp (nullable = true)\n",
      " |-- locationIP: string (nullable = true)\n",
      " |-- browserUsed: string (nullable = true)\n",
      " |-- comment_id: integer (nullable = true)\n",
      " |-- creationDate_comment: timestamp (nullable = true)\n",
      " |-- Number_of_comments_that_month: long (nullable = true)\n",
      " |-- creationDate_comment_dayofmonth: integer (nullable = true)\n",
      " |-- creationDate_comment_dayofweek: integer (nullable = true)\n",
      " |-- creationDate_comment_dayofyear: integer (nullable = true)\n",
      " |-- creationDate_comment_year: integer (nullable = true)\n",
      " |-- age: integer (nullable = true)\n",
      "\n"
     ],
     "output_type": "stream"
    }
   ],
   "source": [
    "# 1.schema of pyspark dataframe\n",
    "\n",
    "df.printSchema()\n"
   ],
   "metadata": {
    "collapsed": false,
    "pycharm": {
     "name": "#%%\n",
     "is_executing": false
    }
   }
  },
  {
   "cell_type": "code",
   "execution_count": 9,
   "outputs": [
    {
     "name": "stdout",
     "text": [
      "+-----------+--------------------------+---------+------+--------------------+---------------+-----------------+----------+--------------------+-----------------------------+-------------------------------+------------------------------+------------------------------+-------------------------+---+\n",
      "|      email|creationDate_comment_month|person_id|gender| creationDate_person|     locationIP|      browserUsed|comment_id|creationDate_comment|Number_of_comments_that_month|creationDate_comment_dayofmonth|creationDate_comment_dayofweek|creationDate_comment_dayofyear|creationDate_comment_year|age|\n",
      "+-----------+--------------------------+---------+------+--------------------+---------------+-----------------+----------+--------------------+-----------------------------+-------------------------------+------------------------------+------------------------------+-------------------------+---+\n",
      "|  gmail.com|                         9|     7134|female|2019-03-20 04:12:...| 31.222.107.200|           Chrome|   2123877|2019-09-24 07:27:...|                            3|                             24|                             3|                           267|                     2019| 37|\n",
      "|  gmail.com|                         5|     8523|female|2019-03-13 23:09:...|  200.10.250.73|          Firefox|   1210026|2019-05-18 16:21:...|                           30|                             18|                             7|                           138|                     2019| 32|\n",
      "|hotmail.com|                         5|     8523|female|2019-03-13 23:09:...|  200.10.250.73|          Firefox|   1383913|2019-05-29 21:11:...|                           30|                             29|                             4|                           149|                     2019| 32|\n",
      "|hotmail.com|                         7|     8523|female|2019-03-13 23:09:...|  200.10.250.73|          Firefox|   1372469|2019-07-19 02:02:...|                           18|                             19|                             6|                           200|                     2019| 32|\n",
      "|hotmail.com|                         9|     8523|female|2019-03-13 23:09:...|  200.10.250.73|          Firefox|   2837601|2019-09-21 15:24:...|                           39|                             21|                             7|                           264|                     2019| 32|\n",
      "|  gmail.com|                         5|     8692|female|2019-04-23 05:27:...|  12.147.111.48|           Chrome|   1833985|2019-05-20 01:49:...|                           25|                             20|                             2|                           140|                     2019| 39|\n",
      "|   zoho.com|                        10|    10176|female|2019-05-11 03:36:...|178.168.182.123|           Chrome|   2856644|2019-10-22 03:35:...|                            5|                             22|                             3|                           295|                     2019| 31|\n",
      "|  gmail.com|                         4|    10905|female|2019-03-19 01:23:...|  41.203.43.203|          Firefox|   2529266|2019-04-11 19:47:...|                           21|                             11|                             5|                           101|                     2019| 35|\n",
      "|  gmail.com|                         6|    10905|female|2019-03-19 01:23:...|  41.203.43.203|          Firefox|    260120|2019-06-20 16:19:...|                            6|                             20|                             5|                           171|                     2019| 35|\n",
      "|    gmx.com|                         7|    11900|female|2019-03-18 05:18:...|  24.40.104.206|          Firefox|   2975267|2019-07-17 03:54:...|                           11|                             17|                             4|                           198|                     2019| 33|\n",
      "|  gmail.com|                         5|    12561|female|2019-03-29 09:15:...|    24.26.1.251|          Firefox|   2011861|2019-05-19 23:12:...|                           83|                             19|                             1|                           139|                     2019| 37|\n",
      "|  gmail.com|                         6|    12561|female|2019-03-29 09:15:...|    24.26.1.251|          Firefox|    591728|2019-06-08 04:13:...|                           36|                              8|                             7|                           159|                     2019| 37|\n",
      "|  gmail.com|                         9|    12561|female|2019-03-29 09:15:...|    24.26.1.251|          Firefox|   2087015|2019-09-11 16:58:...|                           54|                             11|                             4|                           254|                     2019| 37|\n",
      "|  gmail.com|                        10|    12561|female|2019-03-29 09:15:...|    24.26.1.251|          Firefox|    647074|2019-10-06 02:52:...|                           39|                              6|                             1|                           279|                     2019| 37|\n",
      "|   zoho.com|                         5|    12561|female|2019-03-29 09:15:...|    24.26.1.251|          Firefox|   1236533|2019-05-13 00:50:...|                           83|                             13|                             2|                           133|                     2019| 37|\n",
      "|   zoho.com|                         5|    12561|female|2019-03-29 09:15:...|    24.26.1.251|          Firefox|   3110441|2019-05-19 17:35:...|                           83|                             19|                             1|                           139|                     2019| 37|\n",
      "|   zoho.com|                         7|    12561|female|2019-03-29 09:15:...|    24.26.1.251|          Firefox|   1382903|2019-07-11 16:04:...|                           25|                             11|                             5|                           192|                     2019| 37|\n",
      "|  gmail.com|                        10|    13239|female|2019-03-26 13:22:...|  24.46.173.125|Internet Explorer|   5277032|2019-10-01 20:50:...|                           22|                              1|                             3|                           274|                     2019| 34|\n",
      "|  gmail.com|                        11|    14126|female|2019-04-16 08:29:...|  41.74.149.213|           Chrome|   2312393|2019-11-07 13:11:...|                           34|                              7|                             5|                           311|                     2019| 37|\n",
      "|  yahoo.com|                         5|    14126|female|2019-04-16 08:29:...|  41.74.149.213|           Chrome|   2345042|2019-05-31 07:05:...|                            7|                             31|                             6|                           151|                     2019| 37|\n",
      "+-----------+--------------------------+---------+------+--------------------+---------------+-----------------+----------+--------------------+-----------------------------+-------------------------------+------------------------------+------------------------------+-------------------------+---+\n",
      "only showing top 20 rows\n",
      "\n"
     ],
     "output_type": "stream"
    }
   ],
   "source": [
    "# 2.Show your PySpark Dataframe \n",
    "\n",
    "df.show()"
   ],
   "metadata": {
    "collapsed": false,
    "pycharm": {
     "name": "#%%\n",
     "is_executing": false
    }
   }
  },
  {
   "cell_type": "code",
   "execution_count": 10,
   "outputs": [
    {
     "data": {
      "text/plain": "41521"
     },
     "metadata": {},
     "output_type": "execute_result",
     "execution_count": 10
    }
   ],
   "source": [
    "# 3. Count function of PySpark Dataframe\n",
    "\n",
    "df.count()\n"
   ],
   "metadata": {
    "collapsed": false,
    "pycharm": {
     "name": "#%%\n",
     "is_executing": false
    }
   }
  },
  {
   "cell_type": "code",
   "execution_count": 11,
   "outputs": [
    {
     "name": "stdout",
     "text": [
      "gender\n",
      "+-------+------+\n",
      "|summary|gender|\n",
      "+-------+------+\n",
      "|  count| 41521|\n",
      "|   mean|  null|\n",
      "| stddev|  null|\n",
      "|    min|female|\n",
      "|    max|  male|\n",
      "+-------+------+\n",
      "\n",
      "browserUsed\n",
      "+-------+-----------+\n",
      "|summary|browserUsed|\n",
      "+-------+-----------+\n",
      "|  count|      41521|\n",
      "|   mean|       null|\n",
      "| stddev|       null|\n",
      "|    min|     Chrome|\n",
      "|    max|     Safari|\n",
      "+-------+-----------+\n",
      "\n",
      "creationDate_comment_month\n",
      "+-------+--------------------------+\n",
      "|summary|creationDate_comment_month|\n",
      "+-------+--------------------------+\n",
      "|  count|                     41521|\n",
      "|   mean|         7.688928494015077|\n",
      "| stddev|        2.6296634895226774|\n",
      "|    min|                         1|\n",
      "|    max|                        11|\n",
      "+-------+--------------------------+\n",
      "\n"
     ],
     "output_type": "stream"
    }
   ],
   "source": [
    "# 4. Statistical Properties of each column (not that interesting for this dataframe, misschien beter zelfs gewoon schrappen)\n",
    "\n",
    "columns = ['gender', 'browserUsed', 'creationDate_comment_month']\n",
    "for col in columns:\n",
    "    print(col)\n",
    "    df.describe([col]).show()\n"
   ],
   "metadata": {
    "collapsed": false,
    "pycharm": {
     "name": "#%%\n",
     "is_executing": false
    }
   }
  },
  {
   "cell_type": "markdown",
   "source": [
    "# 5. Find unique values of a categorical column\n",
    "columns = ['browserUsed', 'gender']\n",
    "for x in columns:\n",
    "    print(df.select(x).distinct().rdd.map(lambda r: r[0]).collect())\n",
    "\n"
   ],
   "metadata": {
    "collapsed": false,
    "pycharm": {
     "name": "#%% md\n",
     "is_executing": false
    }
   }
  },
  {
   "cell_type": "code",
   "execution_count": 12,
   "outputs": [
    {
     "name": "stdout",
     "text": [
      "email with null values:  0\n",
      "creationDate_comment_month with null values:  0\n",
      "person_id with null values:  0\n",
      "gender with null values:  0\n",
      "creationDate_person with null values:  0\n",
      "locationIP with null values:  0\n",
      "browserUsed with null values:  0\n",
      "comment_id with null values:  0\n",
      "creationDate_comment with null values:  0\n",
      "Number_of_comments_that_month with null values:  0\n",
      "creationDate_comment_dayofmonth with null values:  0\n",
      "creationDate_comment_dayofweek with null values:  0\n",
      "creationDate_comment_dayofyear with null values:  0\n",
      "creationDate_comment_year with null values:  0\n",
      "age with null values:  0\n"
     ],
     "output_type": "stream"
    }
   ],
   "source": [
    "#7. Count the missing values in a column of PySpark Dataframe \n",
    "\n",
    "\n",
    "for col in df.columns:\n",
    "    print(col, \"with null values: \", df.filter(df[col].isNull()).count())\n",
    "    "
   ],
   "metadata": {
    "collapsed": false,
    "pycharm": {
     "name": "#%%\n",
     "is_executing": false
    }
   }
  },
  {
   "cell_type": "code",
   "execution_count": 13,
   "outputs": [],
   "source": [
    "df.write.save(\"data/Data_analysis_part1.parquet\", mode='overwrite')\n",
    "\n",
    "\n"
   ],
   "metadata": {
    "collapsed": false,
    "pycharm": {
     "name": "#%%\n",
     "is_executing": false
    }
   }
  }
 ],
 "metadata": {
  "kernelspec": {
   "name": "pycharm-66ecb5d2",
   "language": "python",
   "display_name": "PyCharm (Python)"
  },
  "language_info": {
   "codemirror_mode": {
    "name": "ipython",
    "version": 2
   },
   "file_extension": ".py",
   "mimetype": "text/x-python",
   "name": "python",
   "nbconvert_exporter": "python",
   "pygments_lexer": "ipython2",
   "version": "2.7.6"
  },
  "pycharm": {
   "stem_cell": {
    "cell_type": "raw",
    "source": [],
    "metadata": {
     "collapsed": false
    }
   }
  }
 },
 "nbformat": 4,
 "nbformat_minor": 0
}