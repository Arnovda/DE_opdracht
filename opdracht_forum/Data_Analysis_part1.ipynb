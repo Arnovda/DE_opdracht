{
 "cells": [
  {
   "cell_type": "code",
   "execution_count": null,
   "outputs": [],
   "source": [
    "print(\"test!!!\")"
   ],
   "metadata": {
    "collapsed": false,
    "pycharm": {
     "name": "#%%\n"
    }
   }
  },
  {
   "cell_type": "code",
   "execution_count": null,
   "outputs": [],
   "source": [
    "from pyspark.sql import SparkSession\n",
    "spark = SparkSession.builder.appName(\"Basics\").getOrCreate()\n"
   ],
   "metadata": {
    "collapsed": false,
    "pycharm": {
     "name": "#%%\n",
     "is_executing": true
    }
   }
  },
  {
   "cell_type": "code",
   "execution_count": 116,
   "metadata": {
    "collapsed": true,
    "pycharm": {
     "is_executing": false
    }
   },
   "outputs": [
    {
     "data": {
      "text/plain": "b'java version \"1.8.0_241\"\\nJava(TM) SE Runtime Environment (build 1.8.0_241-b07)\\nJava HotSpot(TM) 64-Bit Server VM (build 25.241-b07, mixed mode)\\n'"
     },
     "metadata": {},
     "output_type": "execute_result",
     "execution_count": 116
    }
   ],
   "source": [
    "#TODO: make a method out of this.\n",
    "\n",
    "import os\n",
    "os.environ['JAVA_HOME'] = '/Library/Java/JavaVirtualMachines/jdk1.8.0_241.jdk/Contents/Home'\n",
    "\n",
    "import subprocess\n",
    "subprocess.check_output(['java', '-version'], stderr=subprocess.STDOUT)\n"
   ]
  },
  {
   "cell_type": "code",
   "execution_count": 117,
   "outputs": [],
   "source": [
    "df = spark.read.parquet(\"data/final_join.parquet\")\n"
   ],
   "metadata": {
    "collapsed": false,
    "pycharm": {
     "name": "#%%\n",
     "is_executing": false
    }
   }
  },
  {
   "cell_type": "code",
   "execution_count": 118,
   "outputs": [
    {
     "name": "stdout",
     "text": [
      "+---------+------------+---------+------+----------+--------------------+--------------+-----------------+----------+--------------------+--------------------+--------------------------+\n",
      "|person_id|   firstName| lastName|gender|  birthday| creationDate_person|    locationIP|      browserUsed|comment_id|creationDate_comment|               email|creationDate_comment_month|\n",
      "+---------+------------+---------+------+----------+--------------------+--------------+-----------------+----------+--------------------+--------------------+--------------------------+\n",
      "|     8217|   Aleksandr|     Bajt|  male|1986-01-10|2019-01-25 18:54:...|109.239.36.182|          Firefox|      2573|2019-03-13 06:21:...|Aleksandr8217@hot...|                         3|\n",
      "|    17973|          Li|      Wei|female|1986-06-29|2019-01-24 02:05:...|     1.4.3.239|           Chrome|     11826|2019-09-03 11:13:...|     Li17973@gmx.com|                         9|\n",
      "|     3817|         Jun|    Zhang|female|1984-08-19|2019-08-17 10:27:...| 1.204.201.149|Internet Explorer|     37623|2019-11-13 20:08:...|Jun6597069770473@...|                        11|\n",
      "|    18027|        Bing|       Li|  male|1982-03-31|2019-01-04 18:56:...|      1.3.8.65|          Firefox|     48995|2019-04-29 03:57:...| Bing18027@gmail.com|                         4|\n",
      "|    29034|        Joao|  Ribeiro|female|1989-04-27|2019-02-20 20:14:...| 87.196.44.203|          Firefox|     53847|2019-07-03 18:17:...|Joao29034@hotmail...|                         7|\n",
      "|     1052|       Abdou|      Dia|  male|1980-08-29|2019-03-20 11:46:...|  196.1.94.236|Internet Explorer|     55615|2019-07-31 23:39:...|Abdou219902325660...|                         7|\n",
      "|    16767|     Ibrahim|   Arikan|  male|1980-09-12|2019-07-26 12:02:...|  46.17.130.48|          Firefox|     56298|2019-11-07 13:28:...|Ibrahim4398046527...|                        11|\n",
      "|    25514|     Michael|  Johnson|female|1981-04-15|2019-03-22 05:52:...| 24.30.160.138|          Firefox|     81540|2019-04-20 19:50:...|Michael2199023281...|                         4|\n",
      "|    11015|Abdoulatifou|Radafison|  male|1988-11-28|2019-04-05 11:12:...|  41.207.60.46|           Safari|     95752|2019-11-16 20:53:...|Abdoulatifou21990...|                        11|\n",
      "|    19127|       Aafia|  Hussain|female|1984-02-16|2019-05-11 01:31:...|118.103.234.41|           Chrome|    106753|2019-08-18 12:03:...|Aafia219902327467...|                         8|\n",
      "|    12959|     Eduardo|   Aquino|female|1987-04-24|2019-03-03 20:18:...|   121.96.9.23|           Chrome|    113382|2019-10-27 14:10:...|Eduardo12959@yaho...|                        10|\n",
      "|     6280|      Baruch|    Blume|female|1985-08-04|2019-05-11 21:01:...|  81.30.92.249|           Chrome|    149562|2019-07-23 20:21:...|Baruch21990232618...|                         7|\n",
      "|    19807|       James| Anderson|female|1987-08-22|2019-02-19 16:49:...|  27.54.129.75|          Firefox|    154331|2019-05-22 09:17:...|James19807@gmail.com|                         5|\n",
      "|    26351|        Yuki|     Sato|  male|1988-10-29|2019-03-30 20:40:...|   14.0.10.113|           Chrome|    156508|2019-05-20 07:49:...|Yuki2199023281903...|                         5|\n",
      "|     1103|      Mehmet|    Ayhan|female|1980-04-12|2019-01-04 09:14:...|   81.6.70.192|Internet Explorer|    160086|2019-05-23 19:59:...|Mehmet1103@yahoo.com|                         5|\n",
      "|    15233|         Jie|       Fu|  male|1982-05-18|2019-01-03 10:35:...|   1.80.68.119|           Chrome|    173076|2019-04-23 05:35:...|    Jie15233@gmx.com|                         4|\n",
      "|     6238|      Aurora|   Aquino|female|1983-05-11|2019-05-10 19:26:...| 110.92.30.137|Internet Explorer|    197579|2019-09-17 22:43:...|Aurora21990232617...|                         9|\n",
      "|     2783|      Rafael|   Alonso|female|1980-10-09|2019-01-06 00:24:...| 62.93.169.198|          Firefox|    198159|2019-06-03 21:57:...|Rafael2783@gmail.com|                         6|\n",
      "|     4993|     Michael|    Brown|female|1987-05-23|2019-04-07 01:58:...|  24.72.156.73|Internet Explorer|    222367|2019-11-05 02:42:...|Michael2199023260...|                        11|\n",
      "|    14939|        Tony|     Asha|  male|1986-08-10|2019-01-18 12:53:...|196.216.249.15|           Chrome|    229469|2019-04-21 18:36:...|  Tony14939@aqaba.cc|                         4|\n",
      "+---------+------------+---------+------+----------+--------------------+--------------+-----------------+----------+--------------------+--------------------+--------------------------+\n",
      "only showing top 20 rows\n",
      "\n"
     ],
     "output_type": "stream"
    }
   ],
   "source": [
    "df.show()"
   ],
   "metadata": {
    "collapsed": false,
    "pycharm": {
     "name": "#%%\n",
     "is_executing": false
    }
   }
  },
  {
   "cell_type": "markdown",
   "source": [
    "First we'll drop some columns and impute some others and after that we'll do some basic data analysis, \n",
    "largely based on this post: https://medium.com/@aieeshashafique/exploratory-data-analysis-using-pyspark-dataframe-in-python-bd55c02a2852\n",
    "(part1, this file)\n",
    "\n",
    "Then We'll do some more advanced EDA, \n",
    "after which we'll choose a cutoff value which will allow us to define \"an inactive user\" (part 2)"
   ],
   "metadata": {
    "collapsed": false,
    "pycharm": {
     "name": "#%% md\n",
     "is_executing": false
    }
   }
  },
  {
   "cell_type": "code",
   "execution_count": 119,
   "outputs": [],
   "source": [
    "#dropping first- and lastname columns\n",
    "df = df.select([c for c in df.columns if c not in {'lastName','firstName'}])\n",
    "\n",
    "# Adding a lot of datetime columns\n",
    "from pyspark.sql.functions import dayofmonth,dayofweek,dayofyear,year\n",
    "columns = [dayofmonth,dayofweek,dayofyear,year]\n",
    "for x in columns:\n",
    "    df = df.withColumn(f\"creationDate_comment_{x.__name__}\", x(df['creationDate_comment']))\n",
    "\n",
    "# extracting domain name from emails\n",
    "from pyspark.sql.functions import split\n",
    "df = df.withColumn('email', split(df['email'], '@')[1])\n",
    "\n",
    "#Hardcoding the year in is not ideal, but for our purposes allowable \n",
    "df = df.withColumn('age', 2020 - year(df['birthday'])).drop('birthday')\n"
   ],
   "metadata": {
    "collapsed": false,
    "pycharm": {
     "name": "#%%\n",
     "is_executing": false
    }
   }
  },
  {
   "cell_type": "code",
   "execution_count": 120,
   "outputs": [
    {
     "name": "stdout",
     "text": [
      "+---------+------+--------------------+--------------+-----------------+----------+--------------------+-----------+--------------------------+-------------------------------+------------------------------+------------------------------+-------------------------+---+\n",
      "|person_id|gender| creationDate_person|    locationIP|      browserUsed|comment_id|creationDate_comment|      email|creationDate_comment_month|creationDate_comment_dayofmonth|creationDate_comment_dayofweek|creationDate_comment_dayofyear|creationDate_comment_year|age|\n",
      "+---------+------+--------------------+--------------+-----------------+----------+--------------------+-----------+--------------------------+-------------------------------+------------------------------+------------------------------+-------------------------+---+\n",
      "|     8217|  male|2019-01-25 18:54:...|109.239.36.182|          Firefox|      2573|2019-03-13 06:21:...|hotmail.com|                         3|                             13|                             4|                            72|                     2019| 34|\n",
      "|    17973|female|2019-01-24 02:05:...|     1.4.3.239|           Chrome|     11826|2019-09-03 11:13:...|    gmx.com|                         9|                              3|                             3|                           246|                     2019| 34|\n",
      "|     3817|female|2019-08-17 10:27:...| 1.204.201.149|Internet Explorer|     37623|2019-11-13 20:08:...|    gmx.com|                        11|                             13|                             4|                           317|                     2019| 36|\n",
      "|    18027|  male|2019-01-04 18:56:...|      1.3.8.65|          Firefox|     48995|2019-04-29 03:57:...|  gmail.com|                         4|                             29|                             2|                           119|                     2019| 38|\n",
      "|    29034|female|2019-02-20 20:14:...| 87.196.44.203|          Firefox|     53847|2019-07-03 18:17:...|hotmail.com|                         7|                              3|                             4|                           184|                     2019| 31|\n",
      "|     1052|  male|2019-03-20 11:46:...|  196.1.94.236|Internet Explorer|     55615|2019-07-31 23:39:...|  yahoo.com|                         7|                             31|                             4|                           212|                     2019| 40|\n",
      "|    16767|  male|2019-07-26 12:02:...|  46.17.130.48|          Firefox|     56298|2019-11-07 13:28:...|  yahoo.com|                        11|                              7|                             5|                           311|                     2019| 40|\n",
      "|    25514|female|2019-03-22 05:52:...| 24.30.160.138|          Firefox|     81540|2019-04-20 19:50:...|    gmx.com|                         4|                             20|                             7|                           110|                     2019| 39|\n",
      "|    11015|  male|2019-04-05 11:12:...|  41.207.60.46|           Safari|     95752|2019-11-16 20:53:...|  yahoo.com|                        11|                             16|                             7|                           320|                     2019| 32|\n",
      "|    19127|female|2019-05-11 01:31:...|118.103.234.41|           Chrome|    106753|2019-08-18 12:03:...|  gmail.com|                         8|                             18|                             1|                           230|                     2019| 36|\n",
      "|    12959|female|2019-03-03 20:18:...|   121.96.9.23|           Chrome|    113382|2019-10-27 14:10:...|  yahoo.com|                        10|                             27|                             1|                           300|                     2019| 33|\n",
      "|     6280|female|2019-05-11 21:01:...|  81.30.92.249|           Chrome|    149562|2019-07-23 20:21:...|   zoho.com|                         7|                             23|                             3|                           204|                     2019| 35|\n",
      "|    19807|female|2019-02-19 16:49:...|  27.54.129.75|          Firefox|    154331|2019-05-22 09:17:...|  gmail.com|                         5|                             22|                             4|                           142|                     2019| 33|\n",
      "|    26351|  male|2019-03-30 20:40:...|   14.0.10.113|           Chrome|    156508|2019-05-20 07:49:...|  yahoo.com|                         5|                             20|                             2|                           140|                     2019| 32|\n",
      "|     1103|female|2019-01-04 09:14:...|   81.6.70.192|Internet Explorer|    160086|2019-05-23 19:59:...|  yahoo.com|                         5|                             23|                             5|                           143|                     2019| 40|\n",
      "|    15233|  male|2019-01-03 10:35:...|   1.80.68.119|           Chrome|    173076|2019-04-23 05:35:...|    gmx.com|                         4|                             23|                             3|                           113|                     2019| 38|\n",
      "|     6238|female|2019-05-10 19:26:...| 110.92.30.137|Internet Explorer|    197579|2019-09-17 22:43:...|  yahoo.com|                         9|                             17|                             3|                           260|                     2019| 37|\n",
      "|     2783|female|2019-01-06 00:24:...| 62.93.169.198|          Firefox|    198159|2019-06-03 21:57:...|  gmail.com|                         6|                              3|                             2|                           154|                     2019| 40|\n",
      "|     4993|female|2019-04-07 01:58:...|  24.72.156.73|Internet Explorer|    222367|2019-11-05 02:42:...|  gmail.com|                        11|                              5|                             3|                           309|                     2019| 33|\n",
      "|    14939|  male|2019-01-18 12:53:...|196.216.249.15|           Chrome|    229469|2019-04-21 18:36:...|   aqaba.cc|                         4|                             21|                             1|                           111|                     2019| 34|\n",
      "+---------+------+--------------------+--------------+-----------------+----------+--------------------+-----------+--------------------------+-------------------------------+------------------------------+------------------------------+-------------------------+---+\n",
      "only showing top 20 rows\n",
      "\n"
     ],
     "output_type": "stream"
    }
   ],
   "source": [
    "df.show()"
   ],
   "metadata": {
    "collapsed": false,
    "pycharm": {
     "name": "#%%\n",
     "is_executing": false
    }
   }
  },
  {
   "cell_type": "code",
   "execution_count": 121,
   "outputs": [
    {
     "name": "stdout",
     "text": [
      "root\n",
      " |-- person_id: integer (nullable = true)\n",
      " |-- gender: string (nullable = true)\n",
      " |-- creationDate_person: timestamp (nullable = true)\n",
      " |-- locationIP: string (nullable = true)\n",
      " |-- browserUsed: string (nullable = true)\n",
      " |-- comment_id: integer (nullable = true)\n",
      " |-- creationDate_comment: timestamp (nullable = true)\n",
      " |-- email: string (nullable = true)\n",
      " |-- creationDate_comment_month: integer (nullable = true)\n",
      " |-- creationDate_comment_dayofmonth: integer (nullable = true)\n",
      " |-- creationDate_comment_dayofweek: integer (nullable = true)\n",
      " |-- creationDate_comment_dayofyear: integer (nullable = true)\n",
      " |-- creationDate_comment_year: integer (nullable = true)\n",
      " |-- age: integer (nullable = true)\n",
      "\n"
     ],
     "output_type": "stream"
    }
   ],
   "source": [
    "# 1.schema of pyspark dataframe\n",
    "\n",
    "df.printSchema()\n"
   ],
   "metadata": {
    "collapsed": false,
    "pycharm": {
     "name": "#%%\n",
     "is_executing": false
    }
   }
  },
  {
   "cell_type": "code",
   "execution_count": 122,
   "outputs": [
    {
     "name": "stdout",
     "text": [
      "+---------+------+--------------------+--------------+-----------------+----------+--------------------+-----------+--------------------------+-------------------------------+------------------------------+------------------------------+-------------------------+---+\n",
      "|person_id|gender| creationDate_person|    locationIP|      browserUsed|comment_id|creationDate_comment|      email|creationDate_comment_month|creationDate_comment_dayofmonth|creationDate_comment_dayofweek|creationDate_comment_dayofyear|creationDate_comment_year|age|\n",
      "+---------+------+--------------------+--------------+-----------------+----------+--------------------+-----------+--------------------------+-------------------------------+------------------------------+------------------------------+-------------------------+---+\n",
      "|     8217|  male|2019-01-25 18:54:...|109.239.36.182|          Firefox|      2573|2019-03-13 06:21:...|hotmail.com|                         3|                             13|                             4|                            72|                     2019| 34|\n",
      "|    17973|female|2019-01-24 02:05:...|     1.4.3.239|           Chrome|     11826|2019-09-03 11:13:...|    gmx.com|                         9|                              3|                             3|                           246|                     2019| 34|\n",
      "|     3817|female|2019-08-17 10:27:...| 1.204.201.149|Internet Explorer|     37623|2019-11-13 20:08:...|    gmx.com|                        11|                             13|                             4|                           317|                     2019| 36|\n",
      "|    18027|  male|2019-01-04 18:56:...|      1.3.8.65|          Firefox|     48995|2019-04-29 03:57:...|  gmail.com|                         4|                             29|                             2|                           119|                     2019| 38|\n",
      "|    29034|female|2019-02-20 20:14:...| 87.196.44.203|          Firefox|     53847|2019-07-03 18:17:...|hotmail.com|                         7|                              3|                             4|                           184|                     2019| 31|\n",
      "|     1052|  male|2019-03-20 11:46:...|  196.1.94.236|Internet Explorer|     55615|2019-07-31 23:39:...|  yahoo.com|                         7|                             31|                             4|                           212|                     2019| 40|\n",
      "|    16767|  male|2019-07-26 12:02:...|  46.17.130.48|          Firefox|     56298|2019-11-07 13:28:...|  yahoo.com|                        11|                              7|                             5|                           311|                     2019| 40|\n",
      "|    25514|female|2019-03-22 05:52:...| 24.30.160.138|          Firefox|     81540|2019-04-20 19:50:...|    gmx.com|                         4|                             20|                             7|                           110|                     2019| 39|\n",
      "|    11015|  male|2019-04-05 11:12:...|  41.207.60.46|           Safari|     95752|2019-11-16 20:53:...|  yahoo.com|                        11|                             16|                             7|                           320|                     2019| 32|\n",
      "|    19127|female|2019-05-11 01:31:...|118.103.234.41|           Chrome|    106753|2019-08-18 12:03:...|  gmail.com|                         8|                             18|                             1|                           230|                     2019| 36|\n",
      "|    12959|female|2019-03-03 20:18:...|   121.96.9.23|           Chrome|    113382|2019-10-27 14:10:...|  yahoo.com|                        10|                             27|                             1|                           300|                     2019| 33|\n",
      "|     6280|female|2019-05-11 21:01:...|  81.30.92.249|           Chrome|    149562|2019-07-23 20:21:...|   zoho.com|                         7|                             23|                             3|                           204|                     2019| 35|\n",
      "|    19807|female|2019-02-19 16:49:...|  27.54.129.75|          Firefox|    154331|2019-05-22 09:17:...|  gmail.com|                         5|                             22|                             4|                           142|                     2019| 33|\n",
      "|    26351|  male|2019-03-30 20:40:...|   14.0.10.113|           Chrome|    156508|2019-05-20 07:49:...|  yahoo.com|                         5|                             20|                             2|                           140|                     2019| 32|\n",
      "|     1103|female|2019-01-04 09:14:...|   81.6.70.192|Internet Explorer|    160086|2019-05-23 19:59:...|  yahoo.com|                         5|                             23|                             5|                           143|                     2019| 40|\n",
      "|    15233|  male|2019-01-03 10:35:...|   1.80.68.119|           Chrome|    173076|2019-04-23 05:35:...|    gmx.com|                         4|                             23|                             3|                           113|                     2019| 38|\n",
      "|     6238|female|2019-05-10 19:26:...| 110.92.30.137|Internet Explorer|    197579|2019-09-17 22:43:...|  yahoo.com|                         9|                             17|                             3|                           260|                     2019| 37|\n",
      "|     2783|female|2019-01-06 00:24:...| 62.93.169.198|          Firefox|    198159|2019-06-03 21:57:...|  gmail.com|                         6|                              3|                             2|                           154|                     2019| 40|\n",
      "|     4993|female|2019-04-07 01:58:...|  24.72.156.73|Internet Explorer|    222367|2019-11-05 02:42:...|  gmail.com|                        11|                              5|                             3|                           309|                     2019| 33|\n",
      "|    14939|  male|2019-01-18 12:53:...|196.216.249.15|           Chrome|    229469|2019-04-21 18:36:...|   aqaba.cc|                         4|                             21|                             1|                           111|                     2019| 34|\n",
      "+---------+------+--------------------+--------------+-----------------+----------+--------------------+-----------+--------------------------+-------------------------------+------------------------------+------------------------------+-------------------------+---+\n",
      "only showing top 20 rows\n",
      "\n"
     ],
     "output_type": "stream"
    }
   ],
   "source": [
    "# 2.Show your PySpark Dataframe \n",
    "\n",
    "df.show()"
   ],
   "metadata": {
    "collapsed": false,
    "pycharm": {
     "name": "#%%\n",
     "is_executing": false
    }
   }
  },
  {
   "cell_type": "code",
   "execution_count": 123,
   "outputs": [
    {
     "data": {
      "text/plain": "40989"
     },
     "metadata": {},
     "output_type": "execute_result",
     "execution_count": 123
    }
   ],
   "source": [
    "# 3. Count function of PySpark Dataframe\n",
    "\n",
    "df.count()\n"
   ],
   "metadata": {
    "collapsed": false,
    "pycharm": {
     "name": "#%%\n",
     "is_executing": false
    }
   }
  },
  {
   "cell_type": "code",
   "execution_count": 124,
   "outputs": [
    {
     "name": "stdout",
     "text": [
      "gender\n",
      "+-------+------+\n",
      "|summary|gender|\n",
      "+-------+------+\n",
      "|  count| 40989|\n",
      "|   mean|  null|\n",
      "| stddev|  null|\n",
      "|    min|female|\n",
      "|    max|  male|\n",
      "+-------+------+\n",
      "\n",
      "browserUsed\n",
      "+-------+-----------+\n",
      "|summary|browserUsed|\n",
      "+-------+-----------+\n",
      "|  count|      40989|\n",
      "|   mean|       null|\n",
      "| stddev|       null|\n",
      "|    min|     Chrome|\n",
      "|    max|     Safari|\n",
      "+-------+-----------+\n",
      "\n",
      "creationDate_comment_month\n",
      "+-------+--------------------------+\n",
      "|summary|creationDate_comment_month|\n",
      "+-------+--------------------------+\n",
      "|  count|                     40989|\n",
      "|   mean|         7.693039595989168|\n",
      "| stddev|        2.6304448992200773|\n",
      "|    min|                         1|\n",
      "|    max|                        11|\n",
      "+-------+--------------------------+\n",
      "\n"
     ],
     "output_type": "stream"
    }
   ],
   "source": [
    "# 4. Statistical Properties of each column (not that interesting for this dataframe, misschien beter zelfs gewoon schrappen)\n",
    "\n",
    "columns = ['gender', 'browserUsed', 'creationDate_comment_month']\n",
    "for col in columns:\n",
    "    print(col)\n",
    "    df.describe([col]).show()\n"
   ],
   "metadata": {
    "collapsed": false,
    "pycharm": {
     "name": "#%%\n",
     "is_executing": false
    }
   }
  },
  {
   "cell_type": "markdown",
   "source": [
    "# 5. Find unique values of a categorical column\n",
    "columns = ['browserUsed', 'gender']\n",
    "for x in columns:\n",
    "    print(df.select(x).distinct().rdd.map(lambda r: r[0]).collect())\n",
    "\n"
   ],
   "metadata": {
    "collapsed": false,
    "pycharm": {
     "name": "#%% md\n",
     "is_executing": false
    }
   }
  },
  {
   "cell_type": "code",
   "execution_count": 125,
   "outputs": [
    {
     "name": "stdout",
     "text": [
      "person_id with null values:  0\n",
      "gender with null values:  0\n",
      "creationDate_person with null values:  0\n",
      "locationIP with null values:  0\n",
      "browserUsed with null values:  0\n",
      "comment_id with null values:  0\n",
      "creationDate_comment with null values:  0\n",
      "email with null values:  0\n",
      "creationDate_comment_month with null values:  0\n",
      "creationDate_comment_dayofmonth with null values:  0\n",
      "creationDate_comment_dayofweek with null values:  0\n",
      "creationDate_comment_dayofyear with null values:  0\n",
      "creationDate_comment_year with null values:  0\n",
      "age with null values:  0\n"
     ],
     "output_type": "stream"
    }
   ],
   "source": [
    "#7. Count the missing values in a column of PySpark Dataframe \n",
    "\n",
    "\n",
    "for col in df.columns:\n",
    "    print(col, \"with null values: \", df.filter(df[col].isNull()).count())\n",
    "    "
   ],
   "metadata": {
    "collapsed": false,
    "pycharm": {
     "name": "#%%\n",
     "is_executing": false
    }
   }
  },
  {
   "cell_type": "code",
   "execution_count": 126,
   "outputs": [],
   "source": [
    "df.write.save(\"data/Data_analysis_part1.parquet\", mode='overwrite')\n",
    "\n",
    "\n"
   ],
   "metadata": {
    "collapsed": false,
    "pycharm": {
     "name": "#%%\n",
     "is_executing": false
    }
   }
  }
 ],
 "metadata": {
  "kernelspec": {
   "name": "python3",
   "language": "python",
   "display_name": "Python 3"
  },
  "language_info": {
   "codemirror_mode": {
    "name": "ipython",
    "version": 2
   },
   "file_extension": ".py",
   "mimetype": "text/x-python",
   "name": "python",
   "nbconvert_exporter": "python",
   "pygments_lexer": "ipython2",
   "version": "2.7.6"
  },
  "pycharm": {
   "stem_cell": {
    "cell_type": "raw",
    "source": [],
    "metadata": {
     "collapsed": false
    }
   }
  }
 },
 "nbformat": 4,
 "nbformat_minor": 0
}